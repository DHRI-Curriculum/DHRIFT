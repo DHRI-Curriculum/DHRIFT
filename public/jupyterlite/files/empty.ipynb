{
 "cells": [
  {
   "cell_type": "markdown",
   "id": "9ca234f7-84b7-4107-9bcd-74f5a4ffd07d",
   "metadata": {},
   "source": [
    "# Interactive"
]
  },
  {
   "cell_type": "code",
   "execution_count": null,
   "id": "d62fba6e",
   "metadata": {},
   "outputs": [],
   "source": [
    ""
   ]
  }],
 "metadata": {
  "kernelspec": {
   "display_name": "Python (Pyodide)",
   "language": "python",
   "name": "python"
  },
  "language_info": {
   "codemirror_mode": {
    "name": "python",
    "version": 3
   },
   "file_extension": ".py",
   "mimetype": "text/x-python",
   "name": "python",
   "nbconvert_exporter": "python",
   "pygments_lexer": "ipython3",
   "version": "3.8"
  },
  "orig_nbformat": 4,
  "toc-showcode": false
 },
 "nbformat": 4,
 "nbformat_minor": 5
}
